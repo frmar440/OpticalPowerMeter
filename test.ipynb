{
 "cells": [
  {
   "cell_type": "code",
   "execution_count": 95,
   "metadata": {},
   "outputs": [
    {
     "name": "stdout",
     "output_type": "stream",
     "text": [
      "[275, 287, 304, 300, 305, 296, 296, 285, 280, 282, 292, 294, 299, 297, 298, 294, 285, 283, 285, 286, 289, 290, 291, 289, 283, 280, 280, 279, 279, 280, 281, 281, 276, 274, 272, 270, 270, 269, 269, 269, 266, 265, 264, 261, 259, 258, 257, 257, 254, 254, 253, 251, 249, 247, 246, 245, 242, 242, 241, 240, 238, 236, 234, 232, 229, 228, 228, 227, 225, 223, 221, 219, 216, 215, 215, 214, 212, 210, 209, 207]\n"
     ]
    }
   ],
   "source": [
    "import numpy as np\n",
    "\n",
    "\n",
    "sensorValues = b'\\x13\\x01\\x1f\\x010\\x01,\\x011\\x01(\\x01(\\x01\\x1d\\x01\\x18\\x01\\x1a\\x01$\\x01&\\x01+\\x01)\\x01*\\x01&\\x01\\x1d\\x01\\x1b\\x01\\x1d\\x01\\x1e\\x01!\\x01\"\\x01#\\x01!\\x01\\x1b\\x01\\x18\\x01\\x18\\x01\\x17\\x01\\x17\\x01\\x18\\x01\\x19\\x01\\x19\\x01\\x14\\x01\\x12\\x01\\x10\\x01\\x0e\\x01\\x0e\\x01\\r\\x01\\r\\x01\\r\\x01\\n\\x01\\t\\x01\\x08\\x01\\x05\\x01\\x03\\x01\\x02\\x01\\x01\\x01\\x01\\x01\\xfe\\x00\\xfe\\x00\\xfd\\x00\\xfb\\x00\\xf9\\x00\\xf7\\x00\\xf6\\x00\\xf5\\x00\\xf2\\x00\\xf2\\x00\\xf1\\x00\\xf0\\x00\\xee\\x00\\xec\\x00\\xea\\x00\\xe8\\x00\\xe5\\x00\\xe4\\x00\\xe4\\x00\\xe3\\x00\\xe1\\x00\\xdf\\x00\\xdd\\x00\\xdb\\x00\\xd8\\x00\\xd7\\x00\\xd7\\x00\\xd6\\x00\\xd4\\x00\\xd2\\x00\\xd1\\x00\\xcf\\x00'\n",
    "# sensorValues = np.frombuffer(sensorValues, dtype='S1')\n",
    "\n",
    "# sensorValues = [ int.from_bytes(a+b, byteorder='little') for a, b in zip(sensorValues[::2], sensorValues[1::2]) ]\n",
    "\n",
    "# print(sensorValues)\n",
    "\n",
    "sensorValues = [int.from_bytes(sensorValues[2*i:2*(i+1)], byteorder='little') for i in range(80)]\n",
    "print(sensorValues)"
   ]
  }
 ],
 "metadata": {
  "kernelspec": {
   "display_name": "env",
   "language": "python",
   "name": "python3"
  },
  "language_info": {
   "codemirror_mode": {
    "name": "ipython",
    "version": 3
   },
   "file_extension": ".py",
   "mimetype": "text/x-python",
   "name": "python",
   "nbconvert_exporter": "python",
   "pygments_lexer": "ipython3",
   "version": "3.10.6"
  },
  "orig_nbformat": 4,
  "vscode": {
   "interpreter": {
    "hash": "5fffa24697570c7928ea730a2d775f0dbc4c176b8a1aa5631073d74ad175f501"
   }
  }
 },
 "nbformat": 4,
 "nbformat_minor": 2
}
