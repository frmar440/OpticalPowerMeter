{
 "cells": [
  {
   "cell_type": "code",
   "execution_count": 19,
   "metadata": {},
   "outputs": [],
   "source": [
    "sensorValues = b'\\x13\\x01\\x1f\\x010\\x01,\\x011\\x01(\\x01(\\x01\\x1d\\x01\\x18\\x01\\x1a\\x01$\\x01&\\x01+\\x01)\\x01*\\x01&\\x01\\x1d\\x01\\x1b\\x01\\x1d\\x01\\x1e\\x01!\\x01\"\\x01#\\x01!\\x01\\x1b\\x01\\x18\\x01\\x18\\x01\\x17\\x01\\x17\\x01\\x18\\x01\\x19\\x01\\x19\\x01\\x14\\x01\\x12\\x01\\x10\\x01\\x0e\\x01\\x0e\\x01\\r\\x01\\r\\x01\\r\\x01\\n\\x01\\t\\x01\\x08\\x01\\x05\\x01\\x03\\x01\\x02\\x01\\x01\\x01\\x01\\x01\\xfe\\x00\\xfe\\x00\\xfd\\x00\\xfb\\x00\\xf9\\x00\\xf7\\x00\\xf6\\x00\\xf5\\x00\\xf2\\x00\\xf2\\x00\\xf1\\x00\\xf0\\x00\\xee\\x00\\xec\\x00\\xea\\x00\\xe8\\x00\\xe5\\x00\\xe4\\x00\\xe4\\x00\\xe3\\x00\\xe1\\x00\\xdf\\x00\\xdd\\x00\\xdb\\x00\\xd8\\x00\\xd7\\x00\\xd7\\x00\\xd6\\x00\\xd4\\x00\\xd2\\x00\\xd1\\x00\\xcf\\x00'\n",
    "a = b'\\x13\\x01'\n",
    "b = b'\\x1f\\x01'\n"
   ]
  },
  {
   "cell_type": "code",
   "execution_count": 22,
   "metadata": {},
   "outputs": [
    {
     "data": {
      "text/plain": [
       "287"
      ]
     },
     "execution_count": 22,
     "metadata": {},
     "output_type": "execute_result"
    }
   ],
   "source": [
    "int.from_bytes(b, 'little')\n"
   ]
  }
 ],
 "metadata": {
  "kernelspec": {
   "display_name": "env",
   "language": "python",
   "name": "python3"
  },
  "language_info": {
   "codemirror_mode": {
    "name": "ipython",
    "version": 3
   },
   "file_extension": ".py",
   "mimetype": "text/x-python",
   "name": "python",
   "nbconvert_exporter": "python",
   "pygments_lexer": "ipython3",
   "version": "3.10.6"
  },
  "orig_nbformat": 4,
  "vscode": {
   "interpreter": {
    "hash": "5fffa24697570c7928ea730a2d775f0dbc4c176b8a1aa5631073d74ad175f501"
   }
  }
 },
 "nbformat": 4,
 "nbformat_minor": 2
}
